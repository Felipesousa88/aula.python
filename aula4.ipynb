{
 "cells": [
  {
   "cell_type": "code",
   "execution_count": null,
   "metadata": {},
   "outputs": [],
   "source": []
  },
  {
   "cell_type": "markdown",
   "metadata": {},
   "source": [
    "## Revisão Aula Python\n",
    "\n",
    "\n"
   ]
  },
  {
   "cell_type": "markdown",
   "metadata": {},
   "source": [
    "Declarando Variáveis\n"
   ]
  },
  {
   "cell_type": "code",
   "execution_count": 1,
   "metadata": {},
   "outputs": [
    {
     "name": "stdout",
     "output_type": "stream",
     "text": [
      " Felipe sousa <class 'str'>\n",
      "<class 'int'>\n",
      "<class 'int'>\n",
      "<class 'float'>\n",
      "<class 'bool'>\n"
     ]
    }
   ],
   "source": [
    "nome = ' Felipe sousa'  #strimg\n",
    "idade = 35 # inteiro\n",
    "peso = 90 # float\n",
    "altura = 1.75 # float\n",
    "instrutor = True # boolean\n",
    "\n",
    "print(nome, type(nome))\n",
    "\n",
    "print(type(idade))\n",
    "print(type(peso))\n",
    "print(type(altura))\n",
    "print(type(instrutor))\n"
   ]
  },
  {
   "cell_type": "markdown",
   "metadata": {},
   "source": [
    "n1 = input(\"Digite o primeiro numero:\")\n",
    "n2 = input(\"Digite o primeiro numero:\")\n",
    "\n",
    "# Convertendo as entradas para inteiro\n",
    "\n",
    "\n",
    "print(f'Divisao inteira: {divisao_inteira}')\n",
    "print(f'Divisao normal: {divisao}')\n",
    "print(f': {divisao_inteira}')\n",
    "\n"
   ]
  },
  {
   "cell_type": "markdown",
   "metadata": {},
   "source": [
    "# Atividade\n",
    "\n",
    "- Crie um programa para o Boletim de notas do aluno. Guarde o nome do aluno, as notas e calcule a media final do aluno.\n",
    "\n",
    "- Disciplinas:\n",
    "\n",
    "\n",
    "- Matemática\n",
    "- Português\n",
    "- Geografia\n",
    "- História\n",
    "- Física\n",
    "\n",
    "- Ao obter as notas e a media das notas, imprima o boletim do aluno informando as notas das materias e com quanto ele ficou de média.\n",
    "\n"
   ]
  },
  {
   "cell_type": "code",
   "execution_count": 5,
   "metadata": {},
   "outputs": [
    {
     "name": "stdout",
     "output_type": "stream",
     "text": [
      "30\n"
     ]
    },
    {
     "ename": "ValueError",
     "evalue": "could not convert string to float: ''",
     "output_type": "error",
     "traceback": [
      "\u001b[1;31m---------------------------------------------------------------------------\u001b[0m",
      "\u001b[1;31mValueError\u001b[0m                                Traceback (most recent call last)",
      "Cell \u001b[1;32mIn[5], line 10\u001b[0m\n\u001b[0;32m      7\u001b[0m not4 \u001b[38;5;241m=\u001b[39m \u001b[38;5;28minput\u001b[39m(\u001b[38;5;124m'\u001b[39m\u001b[38;5;124mDigite a nota de História: \u001b[39m\u001b[38;5;124m'\u001b[39m)\n\u001b[0;32m      8\u001b[0m not5 \u001b[38;5;241m=\u001b[39m \u001b[38;5;28minput\u001b[39m(\u001b[38;5;124m'\u001b[39m\u001b[38;5;124mDigite a nota de Física: \u001b[39m\u001b[38;5;124m'\u001b[39m)\n\u001b[1;32m---> 10\u001b[0m not1 \u001b[38;5;241m=\u001b[39m \u001b[38;5;28;43mfloat\u001b[39;49m\u001b[43m(\u001b[49m\u001b[43mnot1\u001b[49m\u001b[43m)\u001b[49m\n\u001b[0;32m     11\u001b[0m not2 \u001b[38;5;241m=\u001b[39m \u001b[38;5;28mfloat\u001b[39m(not1)\n\u001b[0;32m     12\u001b[0m not3 \u001b[38;5;241m=\u001b[39m \u001b[38;5;28mfloat\u001b[39m(not1)\n",
      "\u001b[1;31mValueError\u001b[0m: could not convert string to float: ''"
     ]
    }
   ],
   "source": [
    "\n",
    "print(30*\"_\", \"BOLETIM ESCOLAR\",30)\n",
    "nome = input(\"Digite o nome do aluno: \")\n",
    "\n",
    "not1 = input('8.5: ')\n",
    "not2 = input('Digite a nota de Português: ')\n",
    "not3 = input('Digite a nota de Geografia: ')\n",
    "not4 = input('Digite a nota de História: ')\n",
    "not5 = input('Digite a nota de Física: ')\n",
    "\n",
    "not1 = float(not1)\n",
    "not2 = float(not1)\n",
    "not3 = float(not1)\n",
    "not4 = float(not1)\n",
    "not5 = float(not1)\n",
    "\n",
    "média = (not1 + not2 + not3 + not4 + not5)/5\n",
    "\n",
    "print(f'Nome do Aluno: {nome}')\n",
    "print(f'Matemática:{not1}')\n",
    "print(f'Português: {not2}')\n",
    "print(f'Geografia: {not3}')\n",
    "print(f'História: {not4')\n",
    "print(f'Física: {not5}')\n",
    "print(f'A media geral do aluno foi: {media: .2f}')\n",
    "print(60*\"-\")\n",
    "\n",
    "\n"
   ]
  }
 ],
 "metadata": {
  "kernelspec": {
   "display_name": ".venv",
   "language": "python",
   "name": "python3"
  },
  "language_info": {
   "codemirror_mode": {
    "name": "ipython",
    "version": 3
   },
   "file_extension": ".py",
   "mimetype": "text/x-python",
   "name": "python",
   "nbconvert_exporter": "python",
   "pygments_lexer": "ipython3",
   "version": "3.12.4"
  }
 },
 "nbformat": 4,
 "nbformat_minor": 2
}
